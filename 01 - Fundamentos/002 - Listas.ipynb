{
 "cells": [
  {
   "cell_type": "markdown",
   "metadata": {},
   "source": [
    "# Trabajando con listas\n",
    "\n",
    "Una lista es una colección de datos. Hay muchos tipos de colecciones, las listas son un tipo de colección y se definen agrupando datos entre corchetes [] y sepadados por una coma. Cada item de la lista puede ser de cualquier tipo. Por ejemplo:"
   ]
  },
  {
   "cell_type": "code",
   "execution_count": 11,
   "metadata": {},
   "outputs": [],
   "source": [
    "lista_de_nombres = ['Pablo', 'Gaston', 'Joaco', 'Marce']\n",
    "lista_de_temperaturas = [24.5, 20.0, 18, 30.4, 39.0]\n",
    "lista_de_compras = [\"banana\", 10.50, \"pera\", 15.00, \"total\", 25.50]\n",
    "lista_de_monos_tipeando = [1, 'pedro', [\"a\", \"b\"], {\"es_verde\": True }]"
   ]
  },
  {
   "cell_type": "markdown",
   "metadata": {},
   "source": [
    "## Obteniendo items de las listas\n",
    "\n",
    "Para obtener un item de una lista, debo conocer su posición en ella. Los items en las listas tienen un orden que comienza en 0 para el primer item, 1 para el segundo, 2 para tercerto y así sucesivamente... La posición de un item de la lista se denomina **índice** o **index**. "
   ]
  },
  {
   "cell_type": "code",
   "execution_count": 22,
   "metadata": {},
   "outputs": [
    {
     "name": "stdout",
     "output_type": "stream",
     "text": [
      "Color at index 0 is red\n",
      "Color at index 1 is blue\n",
      "Color at index 2 is green\n",
      "I can manage 3 colors. I'm a super computer! 🤖\n"
     ]
    }
   ],
   "source": [
    "colors = ['red', 'blue', 'green']\n",
    "print( f\"Color at index 0 is {colors[0]}\" )\n",
    "print( f\"Color at index 1 is {colors[1]}\" )\n",
    "print( f\"Color at index 2 is {colors[2]}\" )\n",
    "\n",
    "print(f\"I can manage {len(colors)} colors. I'm a super computer! 🤖\")\n"
   ]
  },
  {
   "cell_type": "markdown",
   "metadata": {},
   "source": [
    "La funcion **len** nos devuelve la cantidad de items de una lista."
   ]
  },
  {
   "cell_type": "markdown",
   "metadata": {},
   "source": [
    "## Recorriendo items de una lista (Iteration)\n",
    "\n",
    "Iterar es recorrer los items de una colección secuencialmente, uno a la vez. Python nos ofrece la sentencia **for..in** para realizar esta tarea:"
   ]
  },
  {
   "cell_type": "code",
   "execution_count": 6,
   "metadata": {},
   "outputs": [
    {
     "name": "stdout",
     "output_type": "stream",
     "text": [
      "red\n",
      "blue\n",
      "green\n",
      "He gastado $104.47999999999999 en lo que va del año 😥\n"
     ]
    }
   ],
   "source": [
    "colors = ['red', 'blue', 'green']\n",
    "\n",
    "# esto puede leerse como \"por cada color en la lista colors...\"\n",
    "for color in colors:\n",
    "  print( color )\n",
    "\n",
    "first_quarter_expenses = [12.4, 43.12, 33.21, 15.75]\n",
    "\n",
    "total_expenses = 0\n",
    "for expense in first_quarter_expenses:\n",
    "  total_expenses += expense\n",
    "\n",
    "print( f\"He gastado ${total_expenses} en lo que va del año 😥\")"
   ]
  },
  {
   "cell_type": "markdown",
   "metadata": {},
   "source": [
    "**for..in** junto la ayuda de **enumerate** también nos puede dar información sobre los indices de los items de una lista:"
   ]
  },
  {
   "cell_type": "code",
   "execution_count": 1,
   "metadata": {},
   "outputs": [
    {
     "name": "stdout",
     "output_type": "stream",
     "text": [
      "El color red está en el índice 0\n",
      "El color blue está en el índice 1\n",
      "El color green está en el índice 2\n"
     ]
    }
   ],
   "source": [
    "colors = ['red', 'blue', 'green']\n",
    "\n",
    "# esto puede leerse como \"por cada color en la lista colors...\"\n",
    "for index, color in enumerate(colors):\n",
    "  print( f\"El color {color} está en el índice {index}\" )"
   ]
  },
  {
   "cell_type": "markdown",
   "metadata": {},
   "source": [
    "La función **enumerate** crea un objeto de tipo 'enumerate', que es un iterador (enumerate es un tipo que nos permite recorrer colecciones dándonos información estra de la misma), y nos permite acceder elementos de la lista de forma mas directa, como sus índices."
   ]
  }
 ],
 "metadata": {
  "interpreter": {
   "hash": "673a705e1e290ea507686ec60a50aca01cf7ee2e4fd0e0a6a8032a676ddb9b14"
  },
  "kernelspec": {
   "display_name": "Python 3.10.0 64-bit",
   "language": "python",
   "name": "python3"
  },
  "language_info": {
   "codemirror_mode": {
    "name": "ipython",
    "version": 3
   },
   "file_extension": ".py",
   "mimetype": "text/x-python",
   "name": "python",
   "nbconvert_exporter": "python",
   "pygments_lexer": "ipython3",
   "version": "3.10.0"
  },
  "orig_nbformat": 4
 },
 "nbformat": 4,
 "nbformat_minor": 2
}
