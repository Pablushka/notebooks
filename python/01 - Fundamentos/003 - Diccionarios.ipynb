{
 "cells": [
  {
   "cell_type": "markdown",
   "metadata": {},
   "source": [
    "# Trabajando con diccionarios\n",
    "\n",
    "Los diccionarios son una estructura de datos que nos permiten asignar una clave a un item para poder identificarlo y recuperar su valor. Es una estructura de datos de tipo clave-valor (key-value). Por ejemplo:"
   ]
  },
  {
   "cell_type": "code",
   "execution_count": 6,
   "metadata": {},
   "outputs": [
    {
     "name": "stdout",
     "output_type": "stream",
     "text": [
      "Un diccionario como english_spanish es del tipo python llamado <class 'dict'>\n",
      "{'work': 'trabajo', 'tree': 'árbol', 'computer': 'ordernador'}\n",
      "The word 'work' in spanish is trabajo\n"
     ]
    }
   ],
   "source": [
    "english_spanish = {\n",
    "  \"work\": \"trabajo\",\n",
    "  \"tree\": \"árbol\",\n",
    "  \"computer\": \"ordernador\"\n",
    "}\n",
    "\n",
    "print( f\"Un diccionario como english_spanish es del tipo python llamado {type(english_spanish)}\" )\n",
    "\n",
    "print(english_spanish)\n",
    "print( f\"The word 'work' in spanish is {english_spanish['work']}\" )"
   ]
  },
  {
   "cell_type": "markdown",
   "metadata": {},
   "source": [
    "El diccionario _english_spanish_ posee 3 claves (keys): work, tree, computer \n",
    "y posee 3 valores (values) relacionados a esas claves: trabajo, árbol, ordenador.\n",
    "\n",
    "Las claves pueden ser de cualquier tipo, por ejemplo **int**:"
   ]
  },
  {
   "cell_type": "code",
   "execution_count": 5,
   "metadata": {},
   "outputs": [
    {
     "name": "stdout",
     "output_type": "stream",
     "text": [
      "Fernandito Alonso obtuvo el Primer lugar en el Gran Premio de Monza\n",
      "Sergio Perez obtuvo el Desastrozo lugar en el Gran Premio de Monza\n"
     ]
    }
   ],
   "source": [
    "resultados = {\n",
    "  1: \"Primer lugar\",\n",
    "  2: \"Segundo lugar\",\n",
    "  3: \"Tercer lugar\",\n",
    "  4: \"Desastrozo lugar\"\n",
    "}\n",
    "\n",
    "\n",
    "posicion_fernando_alonso = 1\n",
    "posicion_luis_hamilton = 5\n",
    "posicion_mario_verstappen = 2\n",
    "posicion_sergio_perez = 4\n",
    "posicion_sebastian_vettel = 3\n",
    "\n",
    "\n",
    "print( f\"Fernandito Alonso obtuvo el {resultados[posicion_fernando_alonso]} en el Gran Premio de Monza\" )\n",
    "print( f\"Sergio Perez obtuvo el {resultados[posicion_sergio_perez]} en el Gran Premio de Monza\" )\n"
   ]
  },
  {
   "cell_type": "markdown",
   "metadata": {},
   "source": [
    "## Obteniendo Items de un diccionario\n",
    "\n",
    "A diferencia de las listas, los diccionarios no poseen un índice que nos referencie a cada valor. Para obtener el valor asociado al item de la clave de un diccionario, se debe conocer dicha clave:\n"
   ]
  },
  {
   "cell_type": "code",
   "execution_count": 6,
   "metadata": {},
   "outputs": [
    {
     "name": "stdout",
     "output_type": "stream",
     "text": [
      "El dni de la persona que se llama Juan Pérez es 20198637\n"
     ]
    }
   ],
   "source": [
    "persona = {\n",
    "  \"dni\": \"20198637\",\n",
    "  \"nombre\": \"Juan Pérez\",\n",
    "  \"email\": \"jp@trulala.com.ar\"\n",
    "}\n",
    "\n",
    "print( f\"El dni de la persona que se llama {persona['nombre']} es {persona['dni']}\" )"
   ]
  },
  {
   "cell_type": "markdown",
   "metadata": {},
   "source": [
    "**Cuidado**, porque si las claves de un diccionario son valores **int**, la expresión se puede confundir con una lista:"
   ]
  },
  {
   "cell_type": "code",
   "execution_count": 10,
   "metadata": {},
   "outputs": [
    {
     "name": "stdout",
     "output_type": "stream",
     "text": [
      "El 1 es el codígo de color Rojo\n"
     ]
    }
   ],
   "source": [
    "codigos_colores = {\n",
    "  1: \"Rojo\",\n",
    "  2: \"Verde\",\n",
    "  3: \"Azul\"\n",
    "}\n",
    "\n",
    "color_elegido = codigos_colores[1] # <== Esto no es el segundo item de una lista, es el valor de la clave 1!!!!!!!\n",
    "\n",
    "print( f\"El 1 es el codígo de color {color_elegido}\" )"
   ]
  },
  {
   "cell_type": "markdown",
   "metadata": {},
   "source": [
    "## Recorriendo items de un diccionario\n",
    "\n",
    "Para iterar entre los elementos de un diccionario se puede utilizar la sentencia **for..in**"
   ]
  },
  {
   "cell_type": "code",
   "execution_count": 5,
   "metadata": {},
   "outputs": [
    {
     "name": "stdout",
     "output_type": "stream",
     "text": [
      "Obtenemos las claves del diccionario, una a una\n",
      "1\n",
      "2\n",
      "3\n",
      "Obtenemos las claves del diccionario, una a una, utilizando .keys()\n",
      "1\n",
      "2\n",
      "3\n",
      "Obtenemos los valores del diccionario uno a uno, utilizando las claves obtenidas\n",
      "Rojo\n",
      "Verde\n",
      "Azul\n",
      "Obtenemos los valores, sin necesidad de saber cada una de las claves usando .values() \n",
      "Rojo\n",
      "Verde\n",
      "Azul\n",
      "Obtenemos claves y valores al mismo tiempo, uno a uno, utilizando .items()\n",
      "El coígo 1 corresponde al valor Rojo\n",
      "El coígo 2 corresponde al valor Verde\n",
      "El coígo 3 corresponde al valor Azul\n"
     ]
    }
   ],
   "source": [
    "codigos_colores = {\n",
    "  1: \"Rojo\",\n",
    "  2: \"Verde\",\n",
    "  3: \"Azul\"\n",
    "}\n",
    "\n",
    "print( \"Obtenemos las claves del diccionario, una a una\" ) \n",
    "for codigo in codigos_colores:\n",
    "  print(codigo)\n",
    "\n",
    "print( \"Obtenemos las claves del diccionario, una a una, utilizando .keys()\" ) \n",
    "for codigo in codigos_colores.keys():\n",
    "  print(codigo)\n",
    "\n",
    "\n",
    "print( \"Obtenemos los valores del diccionario uno a uno, utilizando las claves obtenidas\" )\n",
    "for codigo in codigos_colores:\n",
    "  print( codigos_colores[codigo] )\n",
    "\n",
    "print( \"Obtenemos los valores, sin necesidad de saber cada una de las claves usando .values() \")\n",
    "for color in codigos_colores.values():\n",
    "  print(color)\n",
    "\n",
    "print( \"Obtenemos claves y valores al mismo tiempo, uno a uno, utilizando .items()\")\n",
    "for codigo, color in codigos_colores.items():\n",
    "  print( f\"El código {codigo} corresponde al valor {color}\" )"
   ]
  },
  {
   "cell_type": "markdown",
   "metadata": {},
   "source": [
    "## Manipulando diccionarios\n",
    "\n",
    "Los items de un diccionario pueden manipularse con diferentes funciones que proporciona la clase **dict**\n",
    "\n",
    "**clear** Vacía el diccionario:"
   ]
  },
  {
   "cell_type": "code",
   "execution_count": 9,
   "metadata": {},
   "outputs": [
    {
     "name": "stdout",
     "output_type": "stream",
     "text": [
      "{'BA': 'Buenos Aires', 'ER': 'Entre ríos', 'LP': 'La pampa'}\n",
      "{}\n"
     ]
    }
   ],
   "source": [
    "codigos_provincias = {\n",
    "  \"BA\": \"Buenos Aires\",\n",
    "  \"ER\": \"Entre ríos\",\n",
    "  \"LP\": \"La pampa\"\n",
    "}\n",
    "\n",
    "print(codigos_provincias)\n",
    "\n",
    "codigos_provincias.clear() # vacía el diccionario\n",
    "\n",
    "print(codigos_provincias)\n"
   ]
  },
  {
   "cell_type": "markdown",
   "metadata": {},
   "source": [
    "**copy** devuleve una copia del diccionario:"
   ]
  },
  {
   "cell_type": "code",
   "execution_count": 2,
   "metadata": {},
   "outputs": [
    {
     "name": "stdout",
     "output_type": "stream",
     "text": [
      "{'BA': 'Buenos Aires', 'ER': 'Entre ríos', 'LP': 'La pampa'}\n",
      "{'BA': 'Buenos Aires', 'ER': 'Entre ríos', 'LP': 'La pampa'}\n"
     ]
    }
   ],
   "source": [
    "codigos_provincias = {\n",
    "  \"BA\": \"Buenos Aires\",\n",
    "  \"ER\": \"Entre ríos\",\n",
    "  \"LP\": \"La pampa\"\n",
    "}\n",
    "\n",
    "provincias_agroganadeas = codigos_provincias.copy()\n",
    "\n",
    "print(codigos_provincias)\n",
    "print(provincias_agroganadeas)"
   ]
  },
  {
   "cell_type": "markdown",
   "metadata": {},
   "source": [
    "**pop** devuelve el _valor_ de un item del diccionario según la clave y lo elimina del mismo:"
   ]
  },
  {
   "cell_type": "code",
   "execution_count": 6,
   "metadata": {},
   "outputs": [
    {
     "name": "stdout",
     "output_type": "stream",
     "text": [
      "{'BA': 'Buenos Aires', 'LP': 'La pampa'}\n",
      "Entre ríos\n"
     ]
    }
   ],
   "source": [
    "codigos_provincias = {\n",
    "  \"BA\": \"Buenos Aires\",\n",
    "  \"ER\": \"Entre ríos\",\n",
    "  \"LP\": \"La pampa\"\n",
    "}\n",
    "\n",
    "provincia_entre_rios = codigos_provincias.pop(\"ER\")\n",
    "\n",
    "print( codigos_provincias )\n",
    "print(provincia_entre_rios)"
   ]
  },
  {
   "cell_type": "markdown",
   "metadata": {},
   "source": [
    "**popitem** devuelve un item según la clave, y lo elimina del diccionario:"
   ]
  },
  {
   "cell_type": "code",
   "execution_count": 9,
   "metadata": {},
   "outputs": [
    {
     "name": "stdout",
     "output_type": "stream",
     "text": [
      "{'BA': 'Buenos Aires', 'ER': 'Entre ríos'}\n",
      "('LP', 'La pampa')\n",
      "El tipo de datos del item la_pampa es <class 'tuple'>\n"
     ]
    }
   ],
   "source": [
    "codigos_provincias = {\n",
    "  \"BA\": \"Buenos Aires\",\n",
    "  \"ER\": \"Entre ríos\",\n",
    "  \"LP\": \"La pampa\"\n",
    "}\n",
    "\n",
    "la_pampa = codigos_provincias.popitem()\n",
    "\n",
    "print( codigos_provincias )\n",
    "print( la_pampa )\n",
    "print( f\"El tipo de datos del item la_pampa es {type(la_pampa)}\" )\n"
   ]
  },
  {
   "cell_type": "markdown",
   "metadata": {},
   "source": [
    "**setdefault** devuelve el valor de la clave solicitada, si existe. Si no existe crea la clave con su respectivo valor y lo devuelve:"
   ]
  },
  {
   "cell_type": "code",
   "execution_count": 12,
   "metadata": {},
   "outputs": [
    {
     "name": "stdout",
     "output_type": "stream",
     "text": [
      "Mustang\n",
      "scandalous pink\n",
      "{'brand': 'Ford', 'model': 'Mustang', 'year': 1964, 'color': 'scandalous pink'}\n"
     ]
    }
   ],
   "source": [
    "car = {\n",
    "  \"brand\": \"Ford\",\n",
    "  \"model\": \"Mustang\",\n",
    "  \"year\": 1964\n",
    "}\n",
    "\n",
    "car_model = car.setdefault(\"model\", \"Bronco\")\n",
    "print(car_model)\n",
    "\n",
    "car_color = car.setdefault(\"color\", \"scandalous pink\")\n",
    "print(car_color)\n",
    "\n",
    "print(car)\n"
   ]
  },
  {
   "cell_type": "markdown",
   "metadata": {},
   "source": [
    "**update** actualiza un diccionario a partir de claves-valores de otro diccionario (si la clave existe, actualiza su valor, sino crea un nuevo par clave-valor acorde):"
   ]
  },
  {
   "cell_type": "code",
   "execution_count": 14,
   "metadata": {},
   "outputs": [
    {
     "name": "stdout",
     "output_type": "stream",
     "text": [
      "{'brand': 'Ford', 'model': 'Mustang', 'year': 1990, 'color': 'scandalous pink', 'engine': 'V16'}\n"
     ]
    }
   ],
   "source": [
    "car = {\n",
    "  \"brand\": \"Ford\",\n",
    "  \"model\": \"Mustang\",\n",
    "  \"year\": 1964\n",
    "}\n",
    "\n",
    "user_dreamed_car = {\n",
    "  \"color\": \"scandalous pink\",\n",
    "  \"brand\": \"Ford\",\n",
    "  \"year\": 1990,\n",
    "  \"engine\": \"V16\"\n",
    "  }\n",
    "\n",
    "car.update(user_dreamed_car)\n",
    "\n",
    "print(car)"
   ]
  },
  {
   "cell_type": "markdown",
   "metadata": {},
   "source": [
    "## Caso de uso de los diccionarios y listas\n",
    "\n",
    "Un diccionario es una estructura de datos ideal para modelar objetos:"
   ]
  },
  {
   "cell_type": "code",
   "execution_count": null,
   "metadata": {},
   "outputs": [],
   "source": [
    "pokemon = {\n",
    "  \"codigo\": 189,\n",
    "  \"descripcion\": \"pikachu peluche\",\n",
    "  \"precio\": 190.70,\n",
    "  \"stock\": 200\n",
    "}"
   ]
  },
  {
   "cell_type": "markdown",
   "metadata": {},
   "source": [
    "Y como las lista son ideales para manipular colecciones de datos, si quiero manipular una lista de productos, puedo tener una lista python acorde:"
   ]
  },
  {
   "cell_type": "code",
   "execution_count": 18,
   "metadata": {},
   "outputs": [],
   "source": [
    "pokemons_in_stock = [\n",
    "  {\n",
    "    \"codigo\": 189,\n",
    "    \"descripcion\": \"pikachu peluche\",\n",
    "    \"precio\": 190.70,\n",
    "    \"stock\": 200\n",
    "  },\n",
    "  {\n",
    "    \"codigo\": 190,\n",
    "    \"descripcion\": \"charmander peluche\",\n",
    "    \"precio\": 150.70,\n",
    "    \"stock\":120\n",
    "  },\n",
    "  {\n",
    "    \"codigo\": 111,\n",
    "    \"descripcion\": \"charizard peluche\",\n",
    "    \"precio\": 190.70,\n",
    "    \"stock\": 29\n",
    "  },\n",
    "  {\n",
    "    \"codigo\": 99,\n",
    "    \"descripcion\": \"snorlax peluche\",\n",
    "    \"precio\": 150.70,\n",
    "    \"stock\": 78\n",
    "  },\n",
    "  {\n",
    "    \"codigo\": 145,\n",
    "    \"descripcion\": \"squirtle peluche\",\n",
    "    \"precio\": 100.50,\n",
    "    \"stock\": 30\n",
    "  },\n",
    "]"
   ]
  },
  {
   "cell_type": "markdown",
   "metadata": {},
   "source": [
    "Los corchetes definen la lista de item separados por coma, y cada item es un diccionario que representa a un pokemon.\n",
    "\n",
    "A partir de nuestra lista, obtengamos el listado de peluches de pokemon, su precio, cuántos podemos vender de cada uno, que ganacia daría cada pokemon si los vendemos todos y cual sería la ganancia total si vendemos todos los pokemons:"
   ]
  },
  {
   "cell_type": "code",
   "execution_count": 26,
   "metadata": {},
   "outputs": [
    {
     "name": "stdout",
     "output_type": "stream",
     "text": [
      "Hay 200 pikachu peluche para vender y nos daría una venta por $38140.0\n",
      "Hay 120 charmander peluche para vender y nos daría una venta por $18084.0\n",
      "Hay 29 charizard peluche para vender y nos daría una venta por $5530.299999999999\n",
      "Hay 78 snorlax peluche para vender y nos daría una venta por $11754.599999999999\n",
      "Hay 30 squirtle peluche para vender y nos daría una venta por $3015.0\n",
      "Si vendemos todos los pokemons ganaremos $76523.9\n"
     ]
    }
   ],
   "source": [
    "ganancia_total = 0\n",
    "for pokemon in pokemons_in_stock:\n",
    "  print( f\"Hay {pokemon['stock']} {pokemon['descripcion']} para vender y nos daría una venta por ${pokemon['stock'] * pokemon['precio']}\" )\n",
    "  ganancia_total += pokemon['stock'] * pokemon['precio']\n",
    "\n",
    "print( f\"Si vendemos todos los pokemons ganaremos ${ganancia_total}\" )"
   ]
  }
 ],
 "metadata": {
  "interpreter": {
   "hash": "673a705e1e290ea507686ec60a50aca01cf7ee2e4fd0e0a6a8032a676ddb9b14"
  },
  "kernelspec": {
   "display_name": "Python 3.10.0 64-bit",
   "language": "python",
   "name": "python3"
  },
  "language_info": {
   "codemirror_mode": {
    "name": "ipython",
    "version": 3
   },
   "file_extension": ".py",
   "mimetype": "text/x-python",
   "name": "python",
   "nbconvert_exporter": "python",
   "pygments_lexer": "ipython3",
   "version": "3.10.0"
  },
  "orig_nbformat": 4
 },
 "nbformat": 4,
 "nbformat_minor": 2
}
