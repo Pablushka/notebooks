{
 "cells": [
  {
   "cell_type": "markdown",
   "metadata": {},
   "source": [
    "# Trabajando con diccionarios\n",
    "\n",
    "Los diccionarios son una estructura de datos que nos permiten asignar una clave a un item para poder identificarlo y recuperarlo. Es una estructura de datos de tipo clave-valor (key-value). Por ejemplo:"
   ]
  },
  {
   "cell_type": "code",
   "execution_count": 3,
   "metadata": {},
   "outputs": [
    {
     "name": "stdout",
     "output_type": "stream",
     "text": [
      "{'work': 'trabajo', 'tree': 'árbol', 'computer': 'ordernador'}\n",
      "The word 'work' in spanish is trabajo\n"
     ]
    }
   ],
   "source": [
    "english_spanish = {\n",
    "  \"work\": \"trabajo\",\n",
    "  \"tree\": \"árbol\",\n",
    "  \"computer\": \"ordernador\"\n",
    "}\n",
    "\n",
    "print(english_spanish)\n",
    "print(f\"The word 'work' in spanish is {english_spanish['work']}\")"
   ]
  }
 ],
 "metadata": {
  "interpreter": {
   "hash": "673a705e1e290ea507686ec60a50aca01cf7ee2e4fd0e0a6a8032a676ddb9b14"
  },
  "kernelspec": {
   "display_name": "Python 3.10.0 64-bit",
   "language": "python",
   "name": "python3"
  },
  "language_info": {
   "codemirror_mode": {
    "name": "ipython",
    "version": 3
   },
   "file_extension": ".py",
   "mimetype": "text/x-python",
   "name": "python",
   "nbconvert_exporter": "python",
   "pygments_lexer": "ipython3",
   "version": "3.10.0"
  },
  "orig_nbformat": 4
 },
 "nbformat": 4,
 "nbformat_minor": 2
}
