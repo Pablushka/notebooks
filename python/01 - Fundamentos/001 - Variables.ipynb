{
 "cells": [
  {
   "cell_type": "markdown",
   "metadata": {},
   "source": [
    "# Variables"
   ]
  },
  {
   "cell_type": "markdown",
   "metadata": {},
   "source": [
    "Nuestros programas se cargan en la memoria de la computadora antes de correr. ¿Porqué no corren directamente desde nuestro medio de almacenamiento? Porque nada es mas veloz, al menos por el momento, que la memoria RAM de la computadora para poder correr un programa lo más rápido posible. Además en dicha memoria, la RAM, es donde también tendremos que cargar la información que nuestro programa va a necesitar para funcionar.\n",
    "\n",
    "La memoria de la compu se puede ver como una grilla de celdas consecutivas y numeradas, donde podemos almacenar programas y datos. Esta información estará disponible siempre que el equipo esté encendido, ya que por su naturaleza, la memoria RAM se alimenta de la corriente y si esta falla, se pierde todo su contenido. Es una memoria de tipo \"volátil\", a diferencia de otros tipos de memoria, como los discos duros o discos externos, que son memorias \"persistenes\", ya que siguen almacenando los datos aún sin una fuente de electricidad.\n",
    "\n",
    "Dijimos que la memoria es como una grilla, con celdas numeradas. A esos números se los conoce como la \"dirección de memoria\" (memory address) y sive para encontrar lo que guardamos en cada casilla de la grilla. \n",
    "\n",
    "Cuando creamos una variable, lo que estamos haciendo es ponerle un nombre familiar a una dirección de memoria. La funcion **id** de python, nos devuelve la dirección de memoria de una variable:\n"
   ]
  },
  {
   "cell_type": "code",
   "execution_count": 7,
   "metadata": {},
   "outputs": [
    {
     "name": "stdout",
     "output_type": "stream",
     "text": [
      "La dirección de memoria de la variable mi_nombre es: 1807096618992\n",
      "La dirección de memoria de la variable población es: 1807096342704\n"
     ]
    }
   ],
   "source": [
    "mi_nombre = \"pablo\"\n",
    "print(f\"La dirección de memoria de la variable mi_nombre es: {id(mi_nombre)}\")\n",
    "\n",
    "poblacion = 45_000_000\n",
    "print(f\"La dirección de memoria de la variable población es: {id(poblacion)}\")"
   ]
  },
  {
   "cell_type": "markdown",
   "metadata": {},
   "source": [
    "## Tipos de datos\n",
    "\n",
    "En las variables puedo almacenar distintos tipos de datos. Incluso puedo almacenar \"estructuras\" de datos:"
   ]
  },
  {
   "cell_type": "code",
   "execution_count": null,
   "metadata": {},
   "outputs": [],
   "source": [
    "import datetime\n",
    "\n",
    "nombre = \"Pablo C\"\n",
    "edad = 48\n",
    "cuenta_bancaria = 105.68\n",
    "peliculas_favoritas = [\"ET\", \"Interstellar\", \"El milagro de P. Tinto\"] \n",
    "pablo = {\n",
    "  \"nombre\": nombre,\n",
    "  \"edad\": edad,\n",
    "  \"platita\": cuenta_bancaria,\n",
    "  \"cine\": peliculas_favoritas,\n",
    "  \"fecha de nacimiento\": datetime.datetime(1973,1,6)\n",
    "}\n",
    "\n",
    "print(f\"El tipo de la variable nombre es {type(nombre)}\")\n",
    "print(f\"El tipo de la variable edad es {type(edad)}\")\n",
    "print(f\"El tipo de la variable cuenta_bancaria es {type(cuenta_bancaria)}\")\n",
    "print(f\"El tipo de la variable peliculas_favoritas es {type(peliculas_favoritas)}\")\n",
    "print(f\"El tipo de la variable pablo es {type(pablo)}\")\n",
    "\n",
    "if isinstance(pablo,dict):\n",
    "    print(\"\\tPablo \\tes un dictionary\")\n",
    "else:\n",
    "    print(\"\\tPablo es otra cosa\")\n"
   ]
  },
  {
   "cell_type": "markdown",
   "metadata": {},
   "source": [
    "## Manteniendo las cosas secas: DRY Don't Repeat Yourself (No te repitas)\n",
    "\n",
    "Las variables funcionan como comodines para no tener que repetir y reescribir las cosas cada ves que un valor cambia. Ejemplo:"
   ]
  },
  {
   "cell_type": "code",
   "execution_count": 8,
   "metadata": {},
   "outputs": [
    {
     "name": "stdout",
     "output_type": "stream",
     "text": [
      "Total a pagar $63.068\n"
     ]
    }
   ],
   "source": [
    "subtotal = 10.5 + 20.30 # suma los precios del producto A y el producto B\n",
    "taxes = subtotal * 1.21 # calcula el IVA\n",
    "total = subtotal + taxes # Calcula el total a pagar\n",
    "\n",
    "if 10.5 > 10:\n",
    "  total = total - 5 # aplico un descuento si el precio del producto A es mayor a 10\n",
    "\n",
    "if 20.30 > 25:\n",
    "  total = total - 10 # aplico un descuento si el precio del producto b es mayor a 25\n",
    "\n",
    "print(f\"Total a pagar ${total}\")\n"
   ]
  },
  {
   "cell_type": "markdown",
   "metadata": {},
   "source": [
    "Funciona, pero este programa tiene varios problemas:\n",
    "\n",
    "  - Cada vez que cambie un precio o un impuesto, tengo que modificar varias lineas del programa.\n",
    "  - Modificar un programa puede llevarnos a cometer distintos tipos de errores.\n",
    "\n",
    "Por lo tanto, cuanto menos toquemos nuestros programas que ya sabemos que funcionan, mejor.\n",
    "\n",
    "El siguiente código es mucho mejor, puesto que si cambia el precio de un producto, solo tengo que modificar una sóla linea de código para corregirlo, minimizando la cantidad de errores que pueda cometer:"
   ]
  },
  {
   "cell_type": "code",
   "execution_count": 9,
   "metadata": {},
   "outputs": [
    {
     "name": "stdout",
     "output_type": "stream",
     "text": [
      "Total a pagar $63.068\n"
     ]
    }
   ],
   "source": [
    "precio_producto_a = 10.5\n",
    "precio_producto_b = 20.30\n",
    "iva = 21\n",
    "\n",
    "subtotal = precio_producto_a + precio_producto_b # suma los precios del producto A y el producto B\n",
    "taxes = subtotal * (1+iva/100) # calcula el IVA\n",
    "total = subtotal + taxes # Calcula el total a pagar\n",
    "\n",
    "if precio_producto_a > 10:\n",
    "  total = total - 5 # aplico un descuento si el precio del producto A es mayor a 10\n",
    "\n",
    "if precio_producto_b > 25:\n",
    "  total = total - 10 # aplico un descuento si el precio del producto b es mayor a 25\n",
    "\n",
    "print(f\"Total a pagar ${total}\")"
   ]
  },
  {
   "cell_type": "markdown",
   "metadata": {},
   "source": [
    "## Copiando variables\n",
    "\n",
    "Muchas veces necesitaremos copiar el contenido de una variable en otra:"
   ]
  },
  {
   "cell_type": "code",
   "execution_count": 13,
   "metadata": {},
   "outputs": [
    {
     "name": "stdout",
     "output_type": "stream",
     "text": [
      "Mirtha tiene 928 años\n",
      "Elizabeth tiene 928 años\n",
      "* He actualizado la edad de Mirtha *\n",
      "Mirtha tiene ahora 1200 años\n",
      "Elizabeth tiene ahora 928 años\n"
     ]
    }
   ],
   "source": [
    "mirtha_age = 928\n",
    "\n",
    "elizabeth_age = mirtha_age\n",
    "\n",
    "print( f\"Mirtha tiene {mirtha_age} años\")\n",
    "print( f\"Elizabeth tiene {elizabeth_age} años\")\n",
    "\n",
    "mirtha_age = 1200\n",
    "print( \"* He actualizado la edad de Mirtha *\" )\n",
    "print( f\"Mirtha tiene ahora {mirtha_age} años\")\n",
    "print( f\"Elizabeth sigue teniedo {elizabeth_age} años\")\n"
   ]
  },
  {
   "cell_type": "markdown",
   "metadata": {},
   "source": [
    "## Como nombrar a las variables\n",
    "\n",
    "Las variables pueden tener cualquier nombre que respete las reglas para nombrar una variable. Por ejemplo, los nombres de una variable nunca pueden comenzar con un número ni ser una palabra ya reservada por python misma, por lo tanto estos terminan en error:"
   ]
  },
  {
   "cell_type": "code",
   "execution_count": null,
   "metadata": {},
   "outputs": [],
   "source": [
    "100Monos = 100\n",
    "1Premio = 1_000_000\n",
    "\n",
    "if = \"no puedo usar if como nombre de variable!\"\n"
   ]
  },
  {
   "cell_type": "markdown",
   "metadata": {},
   "source": [
    "Fuera de esas restricciones, cualquier otra cosa es un nombre válido. Sin embargo, para que la lectura del código sea sencilla y autodocumentada, es bueno que las variables tengan un nombre descriptivo y acorde a su uso en el momento en que se la utiliza. Si Por ejemplo estamos trabajando con precios de 5 productos:"
   ]
  },
  {
   "cell_type": "code",
   "execution_count": null,
   "metadata": {},
   "outputs": [],
   "source": [
    "# Esto esta mal, porque si bien se el valor de x, no se a qué representa x\n",
    "x = 5.1 \n",
    "# Lo correcto sería\n",
    "precio = 5.1"
   ]
  },
  {
   "cell_type": "markdown",
   "metadata": {},
   "source": [
    "El objetivo es que el nombre de la variable nos de información sobre su contenido, su uso o su estado o todo eso junto. Por otro lado, el nombre correcto de una variable hace el código semánticamente mas comprensible, este código:"
   ]
  },
  {
   "cell_type": "code",
   "execution_count": null,
   "metadata": {},
   "outputs": [],
   "source": [
    "x = [\"banana\", \"pera\", \"manzana\"]\n",
    "for y in x:\n",
    "  print(y)"
   ]
  },
  {
   "cell_type": "markdown",
   "metadata": {},
   "source": [
    "Es mucho menos comprensible que este otro código:"
   ]
  },
  {
   "cell_type": "code",
   "execution_count": null,
   "metadata": {},
   "outputs": [],
   "source": [
    "fruit_list = [\"banana\", \"pera\", \"manzana\"]\n",
    "for fruit in fruit_list:\n",
    "  print(fruit)"
   ]
  },
  {
   "cell_type": "markdown",
   "metadata": {},
   "source": [
    "Ambos códigos son correctos, pero hay uno que está mejor escrito, es mas fácil de leer y comprender y por lo tanto es más facil de mantener y mejorar con el tiempo. Hay que recordar que lo hacemos **al programar estamos creado una abstración, una simulación del universo real**, o al menos de una partecita del mismo. Es por ello que, en general (aunque no siempre), las variables representan estados o el estado de un objeto de la vida real. Por ello, si queremos nombrar a una variable que almacene el total de una factura, no deberíamos llamarla \"x\" o \"variable1\", un nombre correcto sería \"tota_factura\" o \"invoice_total\". Si queremos almacenar las vidas restantes de un personaje de videojuegos, llamarla \"lives\" no sería tan correcto como llamarla \"player_remain_lives\". La regla en estos casos es simple:\n",
    "\n",
    "\n",
    "```\n",
    "# SUSTANTIVO_ATRIBUTO\n",
    "persona_edad\n",
    "temperatura_celsius\n",
    "missile_trajectory\n",
    "\n",
    "```"
   ]
  },
  {
   "cell_type": "markdown",
   "metadata": {},
   "source": [
    "# Buenas prácticas de programación (Coding Best Practices)\n",
    "\n",
    "Hay una serie de reglas implícitas a la hora de programar, recomendaciones, que hacen la vida del programador mas llevadera. Para nombrar variables hay varias reglas que detallaremos a continuación.\n",
    "\n",
    "## Estilo Snakecase\n",
    "\n",
    "Las palabras están delimitadas por el signo underscore (_)\n",
    "\n",
    "```\n",
    "box_a\n",
    "box_b\n",
    "is_active\n",
    "number_of_records\n",
    "```\n",
    "\n",
    "## Estilo Pascalcase\n",
    "\n",
    "Las palabras están delimitadas por letras mayúsculas\n",
    "\n",
    "```\n",
    "BoxWidth\n",
    "BoxHeight\n",
    "IsActive\n",
    "NumberOfRecords\n",
    "```\n",
    "\n",
    "## Estilo Camelcase\n",
    "\n",
    "Igual a Pascalcase, salvo que la primer letra es siempre minúscula\n",
    "\n",
    "```\n",
    "boxWidth\n",
    "boxHeight\n",
    "isActive\n",
    "numberOfRecords\n",
    "```\n",
    "\n",
    "## Notación Húngara\n",
    "\n",
    "Este estilo describe el tipo de la variable o su objetivo al princio del nombre de la variable (un prefijo), seguido de un descriptor que indica la función de la variable, generalmente (pero siempre) conformado por un sustantivo y un atributo de ese sustantivo. Y además usa Camelcae.\n",
    "\n",
    "```\n",
    "dictBoxWidth\n",
    "dictBoxHeight\n",
    "boolIsReactorActive\n",
    "intNumberOfRecords\n",
    "```\n"
   ]
  }
 ],
 "metadata": {
  "interpreter": {
   "hash": "673a705e1e290ea507686ec60a50aca01cf7ee2e4fd0e0a6a8032a676ddb9b14"
  },
  "kernelspec": {
   "display_name": "Python 3.10.0 64-bit",
   "language": "python",
   "name": "python3"
  },
  "language_info": {
   "codemirror_mode": {
    "name": "ipython",
    "version": 3
   },
   "file_extension": ".py",
   "mimetype": "text/x-python",
   "name": "python",
   "nbconvert_exporter": "python",
   "pygments_lexer": "ipython3",
   "version": "3.10.0"
  },
  "orig_nbformat": 4
 },
 "nbformat": 4,
 "nbformat_minor": 2
}
