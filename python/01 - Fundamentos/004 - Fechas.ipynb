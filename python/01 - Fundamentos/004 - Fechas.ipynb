{
 "cells": [
  {
   "cell_type": "markdown",
   "metadata": {},
   "source": [
    "# Programar usando Fechas y Tiempo\n",
    "\n",
    "El manejo del tiempo siempre ha sido un desafío para la humanidad. Lo que hoy para nosotros es súper trivial, como ver un reloj y sincronizar una reunión virtual con personas a la misma hora en diferentes partes del mundo, es el fondo, una compleja interacción de procesos y mecanismos que involucran varias disciplinas, como la matemática, la informática, la ingeniería aeroespacial y la astronomía.\n",
    "\n",
    "## Pero ¿qué es lo dificíl en esto manejar fechas y tiempo?\n",
    "\n",
    "Vamos a dejar de lado la definición de tiempo. Nadie sabe qué es el tiempo (o al menos hay muchas definiciones al respecto). Sin embargo lo que si sabemos es como utilizarlo a nuestro favor y las consecuencias de su existencia. En programación, generalmente, no medimos el tiempo, pero si registramos y utilizamos ese registro para hacer cosas. Asi que no tenemos el problema de cómo medir el tiempo, que es un problema de la física bastante complejo ya de por si. Así que un temas menos del que preocuparnos.\n",
    "\n",
    "Empecemos por las fechas. Mi cumpleaños, por ejemplo: 6 de enero de 1973.\n",
    "\n",
    "Ese texto \"6 de enero de 1973\", sabemos es una fecha. Una marce de tiempo. Ya de entrada tenemos el problema de la notación:\n",
    "\n",
    "  - \"6 de enero de 1973\", es una forma de escribir una fecha en español. Y hay muchas:\n",
    "  - \"Enero 6, 1973\", es otra\n",
    "  - \"6-1-1973\", es otra\n",
    "  - \"06-01-73\", es otra\n",
    "  - ...\n",
    "\n",
    "Y esto es sólo en idioma español. Veamos otros ejemplos de mi cumpleaños en otros idiomas:\n",
    "\n",
    "  - 1973年1月6日 (japonés)\n",
    "  - 3 Sh'vat 5733 (Hebreo, antes de la puesta del sol) ([^1])\n",
    "  - 4 Sh'vat 5733 (Hebreo, después de la puesta del sol) ([^1])\n",
    "  - ד׳ בִּשְׁבָט תשל״ג (Hebreo, después de la puesta del sol, en caracteres hebreos) ([^1])\n",
    "  - ...\n",
    "\n",
    "Y hasta aquí, no tuvimos en cuenta cálculos aparentemente simples, como:\n",
    "\n",
    "  - ¿Qué dia cayó mi cumpelanos el año en que terminaron de construir la gran pirámide de Keops?\n",
    "  - ¿Cuántas semanas faltan para mi próximo cumpleaños?\n",
    "  - ¿Cuánto tiempo, en segundos, ha pasado entre mi cumpleaños pasado y hoy?\n",
    "\n",
    "Si se empieza a pensar en cómo se resolver estas cuestiones en un programa, nos enfrentamos a un sinnúmero de problemas y obstáculos por delante, como ser:\n",
    "\n",
    "  - La notación en la que está escrita la fecha y comprenderla.\n",
    "  - El tipo de calendario utilizado (Gregoriano, Lunar, Indi, Hebreo, etc...)\n",
    "  - La presición en la medición del tiempo.\n",
    "  - Los ajustes de tiempo en los calendarios imperfectos (P.E.: Años bisiestos en calendarios gregorianos)\n",
    "  - La inexistecia de un calendario en cietos períodos de tiempo y reconvertir nuestras fechas al calendario vigente en esa época\n",
    "  - ...\n",
    "\n",
    "[^1]: https://www.hebcal.com/converter?gd=6&gm=1&gy=1973&gs=on&g2h=1\n",
    "\n",
    "\n",
    "\n"
   ]
  },
  {
   "cell_type": "markdown",
   "metadata": {},
   "source": [
    "## Sin estándares, no hay fechas manejables\n",
    "\n",
    "Como vimos, hay tantos tipos de manejo del tiempo como culturas y civilizaciones a lo largo de la historia humana. Sin un estándar que normalice y ponga algo de control, el manejo informático del tiempo sería aún terriblemente más complejo. Por ello, se creó un estándar para la escritura de fechas en un sistema informático, este estándar es el ISO 8601 ([^4]). El formato de fecha y hora establecido en este estándar es el siguiente:\n",
    "\n",
    "<center>YYYY-MM-DD HH:MM:SS</center>\n",
    "\n",
    "El año se define en 4 dígitos, un guión, el mes se define en dos dítos completando con un cero a la izquierda si es necesario, un guión, el día se define en dos dígitos completando con un cero a la izquierda si es necesario, un espacio en blanco y dos digitos tanto para la hora, minuto y segundo, completando con un cero a la izquierda si es necesario, en formato 24hs (no existe AMP/PM).\n",
    "\n",
    "[^4]: https://en.wikipedia.org/wiki/ISO_8601"
   ]
  },
  {
   "cell_type": "markdown",
   "metadata": {},
   "source": [
    "## Python y el manejo del tiempo en la actualidad\n",
    "\n",
    "Hoy en día la mayor parte de los problemas sobre el menjo del tiempo y las fechas están resueltos. Las computadoras cuentan el tiempo desde un instante preciso llamado \"Unix epoch\" ([^2]). Este evento sucedió el 1 de enero de 1979, as las 00:00:00 UTC. UTC significa Corrdinated Universal Time ([^3]) y se refiere a la hora:minutos:segundos en la longitud 0 grados, o mejor conocido como Greenwich Mean Time, o GMT. La notación UTC tiene la ventaja en que las horas no se mofican por los ajustes de horario de verano de algunos paises y por lo tanto, son consistentes y conservan 24 horas en el uso horario de cada día.\n",
    "\n",
    "Para poder operar con fechas y tiempo, python posee varias librerías disponibles que nos ahorran el tedio de los cálculos y operaciones.\n",
    "\n",
    "Basta con importarlas y comenzar a operar. La función time() del módulo time (**time.time()**) nos devuleve la cantidad de segundos transcurridos desde la Unix Epoch, es decir, desde el 1ero de enero de 1970:\n",
    "\n",
    "[^2]: https://en.wikipedia.org/wiki/Unix_time\n",
    "[^3]: https://en.wikipedia.org/wiki/Coordinated_Universal_Time"
   ]
  },
  {
   "cell_type": "code",
   "execution_count": 20,
   "metadata": {},
   "outputs": [
    {
     "data": {
      "text/plain": [
       "1636918927.875446"
      ]
     },
     "execution_count": 20,
     "metadata": {},
     "output_type": "execute_result"
    }
   ],
   "source": [
    "import time\n",
    "\n",
    "time.time()"
   ]
  },
  {
   "cell_type": "markdown",
   "metadata": {},
   "source": [
    "Esto puede resultar curioso, pero no es muy útil que digamos (al menos por ahora). Veamos otro ejemplo donde importamos nuevas funciones mas útiles para generar una fecha y hora:"
   ]
  },
  {
   "cell_type": "code",
   "execution_count": 23,
   "metadata": {},
   "outputs": [
    {
     "name": "stdout",
     "output_type": "stream",
     "text": [
      "Mi cumpleaños es el: 1973-01-06\n",
      "Mi cumpleaños en formato ISO 8601 es 1973-01-06 23:15:00\n"
     ]
    }
   ],
   "source": [
    "from datetime import date, time, datetime\n",
    "\n",
    "mi_cumpleaños = date(year=1973, month=1, day=6)\n",
    "print(f\"Mi cumpleaños es el: {mi_cumpleaños}\")\n",
    "\n",
    "mi_cumpleaños_ISO = datetime(year=1973, month=1, day=6, hour=23, minute=15, second=00)\n",
    "print(f\"Mi cumpleaños en formato ISO 8601 es {mi_cumpleaños_ISO}\")"
   ]
  },
  {
   "cell_type": "markdown",
   "metadata": {},
   "source": [
    "Veamos otras funciones útiles:"
   ]
  },
  {
   "cell_type": "code",
   "execution_count": 29,
   "metadata": {},
   "outputs": [
    {
     "name": "stdout",
     "output_type": "stream",
     "text": [
      "Hoy es 2021-11-14\n",
      "Ahora es 2021-11-14 17:19:57.367411\n",
      "La hora actual es 17:19:57\n",
      "El momento fue registrado el 2021-11-14 17:19:57\n"
     ]
    }
   ],
   "source": [
    "hoy = date.today()\n",
    "ahora = datetime.now()\n",
    "\n",
    "hora_actual = time(ahora.hour, ahora.minute, ahora.second)\n",
    "\n",
    "momento = datetime.combine(hoy, hora_actual)\n",
    "\n",
    "print(f\"Hoy es {hoy}\")\n",
    "print(f\"Ahora es {ahora}\")\n",
    "print(f\"La hora actual es {hora_actual}\")\n",
    "print(f\"El momento fue registrado el {momento}\")\n"
   ]
  },
  {
   "cell_type": "markdown",
   "metadata": {},
   "source": [
    "## Mis fechas y las de los demás\n",
    "\n",
    "Hasta aquí trabajanos un poco con fechas y horas creadas por nosotros en base a nuestra necesidad. Por lo tanto las creamos en base a nuestra comodidad. ¿Pero qué pasa con las fechas y horas que no creamos nosotros, que nos vienen de un tercero? Por ejemplo, estamos trabajando en un sistema que debe tomar datos de fecha de una planilla de excel o de un archivo CSV. \n",
    "\n",
    "Supongamos que tenemos que trabajar con una fecha que nos vino en un archivo de excel. La fecha en cuestion es la siguiente:\n",
    "\n"
   ]
  },
  {
   "cell_type": "code",
   "execution_count": null,
   "metadata": {},
   "outputs": [],
   "source": [
    "fecha_salida_de_excel = \"06-01-1973 23:15:00\""
   ]
  },
  {
   "cell_type": "markdown",
   "metadata": {},
   "source": [
    "Como se ve, es un string, no es una fecha, es un texto que representa una fecha. De ese texto, puedo inferir cual es el año, la hora, pero el día y el mes, ¿cuál es cual? ¿01 es el mes o el día? ¿06 es el mes o el día? Si tuviera la certeza que el formato es ISO 8601, sabría cual es cual, pero no lo sé. No se cual es el origen de los datos y si hay un estandar detrás. ¿Cómo se resuelve esto?\n",
    "\n",
    "Lo primero que hay que hacer es verificar en que formato está escrita la fecha. Si sigue un estándar o no. En este ejemplo, hipotéticamente, se ha hablado con quien proporciona la fecha y nos dice está en formato español de Argentina: DD-MM-YYYY HH:MM:SS\n",
    "\n",
    "Lo segundo es crear un formato de fecha que represente a las fechas en formato \"español de Argentina\". Para ello tengo que crear un string que represente ese formato, siguiendo las reglas de esta tabla:\n",
    "\n",
    "|Component                                        |Code |Value|\n",
    "| ------------------------------------------------|-----|-----|\n",
    "|Year (as four-digit integer )                    | %Y  | 1973|\n",
    "|Month (as zero-padded decimal)                   | %m  |   01|\n",
    "|Date (as zero-padded decimal)                    | %d  |   06|\n",
    "|Hour (as zero-padded decimal with 24-hour clock)\t| %H  |   23|\n",
    "|Minute (as zero-padded decimal)                  | %M  |   15|\n",
    "|Second (as zero-padded decimal)                  | %S  |   00|\n",
    "\n",
    "Por último, utilizamos el texto de la fecha y su formato para crear una fecha computacionalmente válida:"
   ]
  },
  {
   "cell_type": "code",
   "execution_count": 31,
   "metadata": {},
   "outputs": [
    {
     "name": "stdout",
     "output_type": "stream",
     "text": [
      "1973-01-06 23:15:00\n"
     ]
    }
   ],
   "source": [
    "fecha_salida_de_excel = \"06-01-1973 23:15:00\"\n",
    "formato_de_la_fecha   =  r\"%d-%m-%Y %H:%M:%S\"\n",
    "fecha_final = datetime.strptime(fecha_salida_de_excel, formato_de_la_fecha)\n",
    "print(fecha_final)"
   ]
  },
  {
   "cell_type": "markdown",
   "metadata": {},
   "source": [
    "## Jugando con fechas\n",
    "\n",
    "1. ¿Cómo obtengo la fecha de ayer?\n",
    "2. ¿Y la de mañana?\n",
    "3. ¿Cuánto falta para mi cumple?"
   ]
  },
  {
   "cell_type": "code",
   "execution_count": 43,
   "metadata": {},
   "outputs": [
    {
     "name": "stdout",
     "output_type": "stream",
     "text": [
      "Si hoy es 2021-11-14, ayer fue 2021-11-13 y mañana será 2021-11-15\n",
      "Para mi próximo cumple faltan 53 days, 0:00:00 días\n"
     ]
    }
   ],
   "source": [
    "from datetime import timedelta\n",
    "\n",
    "hoy = date.today()\n",
    "ayer = hoy - timedelta(days=1)\n",
    "mañana = hoy + timedelta(days=1)\n",
    "\n",
    "mi_cumple = date(1973,1,6)\n",
    "mi_proximo_cumple = date(hoy.year + 1, 1, 6 ) \n",
    "faltan = mi_proximo_cumple - hoy\n",
    "\n",
    "print(f\"Si hoy es {hoy}, ayer fue {ayer} y mañana será {mañana}\")\n",
    "print(f\"Para mi próximo cumple faltan {faltan.days} días\")\n"
   ]
  },
  {
   "cell_type": "markdown",
   "metadata": {},
   "source": [
    "## Librerías de terceros\n",
    "\n",
    "Como se puede ver, operar con fechas es extremadamente complejo. Si bien pyhton nos ofrece funciones que son de gran ayuda, a veces es necesario operar de otra manera, ya sea con mas precición o humanamente más comprensible. Por eso, existen muchas librerias y módulos de funciones extra que podemos utilizar, dependiendo de nuestras necesidades:"
   ]
  },
  {
   "cell_type": "code",
   "execution_count": 1,
   "metadata": {},
   "outputs": [
    {
     "name": "stdout",
     "output_type": "stream",
     "text": [
      "^C\n",
      "Note: you may need to restart the kernel to use updated packages.\n",
      "Requirement already satisfied: dateparser in c:\\users\\pablu\\appdata\\local\\programs\\python\\python310\\lib\\site-packages (1.1.0)\n",
      "Requirement already satisfied: regex!=2019.02.19,!=2021.8.27 in c:\\users\\pablu\\appdata\\local\\programs\\python\\python310\\lib\\site-packages (from dateparser) (2021.11.10)\n",
      "Requirement already satisfied: python-dateutil in c:\\users\\pablu\\appdata\\local\\programs\\python\\python310\\lib\\site-packages (from dateparser) (2.8.2)\n",
      "Requirement already satisfied: tzlocal in c:\\users\\pablu\\appdata\\local\\programs\\python\\python310\\lib\\site-packages (from dateparser) (4.1)\n",
      "Requirement already satisfied: pytz in c:\\users\\pablu\\appdata\\local\\programs\\python\\python310\\lib\\site-packages (from dateparser) (2021.3)\n",
      "Requirement already satisfied: six>=1.5 in c:\\users\\pablu\\appdata\\local\\programs\\python\\python310\\lib\\site-packages (from python-dateutil->dateparser) (1.16.0)\n",
      "Requirement already satisfied: tzdata in c:\\users\\pablu\\appdata\\local\\programs\\python\\python310\\lib\\site-packages (from tzlocal->dateparser) (2021.5)\n",
      "Requirement already satisfied: pytz-deprecation-shim in c:\\users\\pablu\\appdata\\local\\programs\\python\\python310\\lib\\site-packages (from tzlocal->dateparser) (0.1.0.post0)\n"
     ]
    },
    {
     "name": "stderr",
     "output_type": "stream",
     "text": [
      "WARNING: You are using pip version 21.2.3; however, version 21.3.1 is available.\n",
      "You should consider upgrading via the 'C:\\Users\\pablu\\AppData\\Local\\Programs\\Python\\Python310\\python.exe -m pip install --upgrade pip' command.\n"
     ]
    }
   ],
   "source": [
    "# Instala dateparser en el kernel de jupyter, en un proyecto nornmal, no usar el simbolo %\n",
    "%pip install dateparser\n",
    "\n",
    "\n"
   ]
  },
  {
   "cell_type": "code",
   "execution_count": 2,
   "metadata": {},
   "outputs": [
    {
     "name": "stdout",
     "output_type": "stream",
     "text": [
      "2021-11-13 18:53:28.992933\n",
      "2021-11-13 18:53:28.999920\n",
      "2021-11-15 18:53:29.038920\n"
     ]
    }
   ],
   "source": [
    "import dateparser\n",
    "\n",
    "print(dateparser.parse(\"ayer\"))\n",
    "print(dateparser.parse(\"yesterday\"))\n",
    "print(dateparser.parse(\"morgen\"))"
   ]
  }
 ],
 "metadata": {
  "interpreter": {
   "hash": "673a705e1e290ea507686ec60a50aca01cf7ee2e4fd0e0a6a8032a676ddb9b14"
  },
  "kernelspec": {
   "display_name": "Python 3.10.0 64-bit",
   "language": "python",
   "name": "python3"
  },
  "language_info": {
   "codemirror_mode": {
    "name": "ipython",
    "version": 3
   },
   "file_extension": ".py",
   "mimetype": "text/x-python",
   "name": "python",
   "nbconvert_exporter": "python",
   "pygments_lexer": "ipython3",
   "version": "3.10.0"
  },
  "orig_nbformat": 4
 },
 "nbformat": 4,
 "nbformat_minor": 2
}
