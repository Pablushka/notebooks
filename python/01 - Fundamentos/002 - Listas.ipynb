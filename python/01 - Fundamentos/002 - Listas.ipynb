{
 "cells": [
  {
   "cell_type": "markdown",
   "metadata": {},
   "source": [
    "# Trabajando con listas\n",
    "\n",
    "Una lista es una colección de datos. Hay muchos tipos de colecciones, las listas son un tipo de colección y se definen agrupando datos entre corchetes [] y sepadados por una coma. Cada item de la lista puede ser de cualquier tipo. Por ejemplo:"
   ]
  },
  {
   "cell_type": "code",
   "execution_count": 11,
   "metadata": {},
   "outputs": [],
   "source": [
    "lista_de_nombres = ['Pablo', 'Gaston', 'Joaco', 'Marce']\n",
    "lista_de_temperaturas = [24.5, 20.0, 18, 30.4, 39.0]\n",
    "lista_de_compras = [\"banana\", 10.50, \"pera\", 15.00, \"total\", 25.50]\n",
    "lista_de_monos_tipeando = [1, 'pedro', [\"a\", \"b\"], {\"es_verde\": True }]"
   ]
  },
  {
   "cell_type": "markdown",
   "metadata": {},
   "source": [
    "## Obteniendo items de las listas\n",
    "\n",
    "Para obtener un item de una lista, debo conocer su posición en ella. Los items en las listas tienen un orden que comienza en 0 para el primer item, 1 para el segundo, 2 para tercerto y así sucesivamente... La posición de un item de la lista se denomina **índice** o **index**. "
   ]
  },
  {
   "cell_type": "code",
   "execution_count": 22,
   "metadata": {},
   "outputs": [
    {
     "name": "stdout",
     "output_type": "stream",
     "text": [
      "Color at index 0 is red\n",
      "Color at index 1 is blue\n",
      "Color at index 2 is green\n",
      "I can manage 3 colors. I'm a super computer! 🤖\n"
     ]
    }
   ],
   "source": [
    "colors = ['red', 'blue', 'green']\n",
    "print( f\"Color at index 0 is {colors[0]}\" )\n",
    "print( f\"Color at index 1 is {colors[1]}\" )\n",
    "print( f\"Color at index 2 is {colors[2]}\" )\n",
    "\n",
    "print(f\"I can manage {len(colors)} colors. I'm a super computer! 🤖\")\n"
   ]
  },
  {
   "cell_type": "markdown",
   "metadata": {},
   "source": [
    "La funcion **len** nos devuelve la cantidad de items de una lista."
   ]
  },
  {
   "cell_type": "markdown",
   "metadata": {},
   "source": [
    "## Recorriendo items de una lista (Iteration)\n",
    "\n",
    "Iterar es recorrer los items de una colección secuencialmente, uno a la vez. Python nos ofrece la sentencia **for..in** para realizar esta tarea:"
   ]
  },
  {
   "cell_type": "code",
   "execution_count": 6,
   "metadata": {},
   "outputs": [
    {
     "name": "stdout",
     "output_type": "stream",
     "text": [
      "red\n",
      "blue\n",
      "green\n",
      "He gastado $104.47999999999999 en lo que va del año 😥\n"
     ]
    }
   ],
   "source": [
    "colors = ['red', 'blue', 'green']\n",
    "\n",
    "# esto puede leerse como \"por cada color en la lista colors...\"\n",
    "for color in colors:\n",
    "  print( color )\n",
    "\n",
    "first_quarter_expenses = [12.4, 43.12, 33.21, 15.75]\n",
    "\n",
    "total_expenses = 0\n",
    "for expense in first_quarter_expenses:\n",
    "  total_expenses += expense\n",
    "\n",
    "print( f\"He gastado ${total_expenses} en lo que va del año 😥\")"
   ]
  },
  {
   "cell_type": "markdown",
   "metadata": {},
   "source": [
    "**for..in** junto la ayuda de **enumerate** también nos puede dar información sobre los indices de los items de una lista:"
   ]
  },
  {
   "cell_type": "code",
   "execution_count": 1,
   "metadata": {},
   "outputs": [
    {
     "name": "stdout",
     "output_type": "stream",
     "text": [
      "El color red está en el índice 0\n",
      "El color blue está en el índice 1\n",
      "El color green está en el índice 2\n"
     ]
    }
   ],
   "source": [
    "colors = ['red', 'blue', 'green']\n",
    "\n",
    "# esto puede leerse como \"por cada color en la lista colors...\"\n",
    "for index, color in enumerate(colors):\n",
    "  print( f\"El color {color} está en el índice {index}\" )"
   ]
  },
  {
   "cell_type": "markdown",
   "metadata": {},
   "source": [
    "La función **enumerate** crea un objeto de tipo 'enumerate', que es un iterador (enumerate es un tipo que nos permite recorrer colecciones dándonos información estra de la misma), y nos permite acceder elementos de la lista de forma mas directa, como sus índices."
   ]
  },
  {
   "cell_type": "markdown",
   "metadata": {},
   "source": [
    "## Manipulando listas\n",
    "\n",
    "Los items de las listas pueden manipularse con distintas funciones inherentes a la propia clase list.\n",
    "\n",
    "**append** agrega un item al final de la lista:"
   ]
  },
  {
   "cell_type": "code",
   "execution_count": 2,
   "metadata": {},
   "outputs": [
    {
     "name": "stdout",
     "output_type": "stream",
     "text": [
      "['Pablo']\n",
      "['Pablo', 'Victoria', 'Joacko']\n"
     ]
    }
   ],
   "source": [
    "nombres = [] # Esto crea una lista vacía\n",
    "\n",
    "nombres.append(\"Pablo\")\n",
    "print(nombres)\n",
    "\n",
    "nombres.append(\"Victoria\")\n",
    "nombres.append(\"Joacko\")\n",
    "print(nombres)\n",
    "\n"
   ]
  },
  {
   "cell_type": "markdown",
   "metadata": {},
   "source": [
    "**insert** agrea un item a la lista en una posición determinada:"
   ]
  },
  {
   "cell_type": "code",
   "execution_count": 3,
   "metadata": {},
   "outputs": [
    {
     "name": "stdout",
     "output_type": "stream",
     "text": [
      "['Pablo', 'Marcela', 'Victoria', 'Gastón']\n"
     ]
    }
   ],
   "source": [
    "nombres = [\"Pablo\",\"Victoria\",\"Gastón\"]\n",
    "\n",
    "# Inserta Marcela en la segunda posición (recuerden que los indices comienzan en cero 0)\n",
    "# por lo tanto 1 es la seguna posición, no la primera\n",
    "nombres.insert(1, \"Marcela\") \n",
    "print(nombres)"
   ]
  },
  {
   "cell_type": "markdown",
   "metadata": {},
   "source": [
    "**remove** elimina un item de la lista que coincida con el valor utilizado en remove:"
   ]
  },
  {
   "cell_type": "code",
   "execution_count": 8,
   "metadata": {},
   "outputs": [
    {
     "name": "stdout",
     "output_type": "stream",
     "text": [
      "['Pablo', 'Gastón']\n"
     ]
    },
    {
     "ename": "ValueError",
     "evalue": "list.remove(x): x not in list",
     "output_type": "error",
     "traceback": [
      "\u001b[1;31m---------------------------------------------------------------------------\u001b[0m",
      "\u001b[1;31mValueError\u001b[0m                                Traceback (most recent call last)",
      "\u001b[1;32m~\\AppData\\Local\\Temp/ipykernel_13624/2993120906.py\u001b[0m in \u001b[0;36m<module>\u001b[1;34m\u001b[0m\n\u001b[0;32m      4\u001b[0m \u001b[1;33m\u001b[0m\u001b[0m\n\u001b[0;32m      5\u001b[0m \u001b[1;31m# Si el valor a eliminar de la lista no existe, genera un error\u001b[0m\u001b[1;33m\u001b[0m\u001b[1;33m\u001b[0m\u001b[0m\n\u001b[1;32m----> 6\u001b[1;33m \u001b[0mnombres\u001b[0m\u001b[1;33m.\u001b[0m\u001b[0mremove\u001b[0m\u001b[1;33m(\u001b[0m\u001b[1;34m\"Fulgencio\"\u001b[0m\u001b[1;33m)\u001b[0m\u001b[1;33m\u001b[0m\u001b[1;33m\u001b[0m\u001b[0m\n\u001b[0m",
      "\u001b[1;31mValueError\u001b[0m: list.remove(x): x not in list"
     ]
    }
   ],
   "source": [
    "nombres = [\"Pablo\",\"Victoria\",\"Gastón\"]\n",
    "nombres.remove(\"Victoria\")\n",
    "print(nombres)\n",
    "\n",
    "# Si el valor a eliminar de la lista no existe, genera un error\n",
    "nombres.remove(\"Fulgencio\") "
   ]
  },
  {
   "cell_type": "markdown",
   "metadata": {},
   "source": [
    "**pop** devuelve un item de la lista y lo quita:"
   ]
  },
  {
   "cell_type": "code",
   "execution_count": 10,
   "metadata": {},
   "outputs": [
    {
     "name": "stdout",
     "output_type": "stream",
     "text": [
      "Joacko\n",
      "['Pablo', 'Victoria', 'Gastón']\n",
      "Victoria\n",
      "['Pablo', 'Gastón']\n"
     ]
    }
   ],
   "source": [
    "nombres = [\"Pablo\",\"Victoria\",\"Gastón\", \"Joacko\"]\n",
    "\n",
    "# pop puede recibir como parámetro el índice del item\n",
    "# si no se le pasa ninguno, devuelve y quita el último item de la lista\n",
    "ultimo_nombre = nombres.pop()\n",
    "print(ultimo_nombre)\n",
    "print(nombres)\n",
    "\n",
    "# devuleve y quita el segundo item de la lista\n",
    "# 1 es el indice del segundo item, porque los indices comienzan en 0\n",
    "segundo_nombre = nombres.pop(1)\n",
    "print(segundo_nombre)\n",
    "print(nombres)"
   ]
  },
  {
   "cell_type": "markdown",
   "metadata": {},
   "source": [
    "**clear** quita todos los elementos de la lista:"
   ]
  },
  {
   "cell_type": "code",
   "execution_count": 11,
   "metadata": {},
   "outputs": [
    {
     "name": "stdout",
     "output_type": "stream",
     "text": [
      "[]\n"
     ]
    }
   ],
   "source": [
    "nombres = [\"Pablo\",\"Victoria\",\"Gastón\", \"Joacko\"]\n",
    "nombres.clear()\n",
    "\n",
    "print(nombres)"
   ]
  },
  {
   "cell_type": "markdown",
   "metadata": {},
   "source": [
    "La sentencia **del** permite eliminar un items de la lista:"
   ]
  },
  {
   "cell_type": "code",
   "execution_count": 45,
   "metadata": {},
   "outputs": [
    {
     "name": "stdout",
     "output_type": "stream",
     "text": [
      "['Pablo', 'Victoria', 'Gastón', 'Pablo']\n"
     ]
    }
   ],
   "source": [
    "nombres = [\"Pablo\",\"Victoria\",\"Gastón\", \"Joacko\", \"Pablo\"]\n",
    "del(nombres[3])\n",
    "print(nombres)"
   ]
  },
  {
   "cell_type": "markdown",
   "metadata": {},
   "source": [
    "**count** devuelve la cantidad de veces que un valor de un item aparece en la lista:"
   ]
  },
  {
   "cell_type": "code",
   "execution_count": 14,
   "metadata": {},
   "outputs": [
    {
     "name": "stdout",
     "output_type": "stream",
     "text": [
      "2\n"
     ]
    }
   ],
   "source": [
    "nombres = [\"Pablo\",\"Victoria\",\"Gastón\", \"Joacko\", \"Pablo\"]\n",
    "print(nombres.count(\"Pablo\"))"
   ]
  },
  {
   "cell_type": "markdown",
   "metadata": {},
   "source": [
    "**sort** orderna la lista según sus valores:"
   ]
  },
  {
   "cell_type": "code",
   "execution_count": 25,
   "metadata": {},
   "outputs": [
    {
     "name": "stdout",
     "output_type": "stream",
     "text": [
      "['Gastón', 'Joacko', 'Pablo', 'Pablo', 'Victoria']\n",
      "['Victoria', 'Pablo', 'Pablo', 'Joacko', 'Gastón']\n"
     ]
    }
   ],
   "source": [
    "nombres = [\"Pablo\",\"Victoria\",\"Gastón\", \"Joacko\", \"Pablo\"]\n",
    "nombres.sort()\n",
    "print(nombres)\n",
    "\n",
    "# Se puede especificar una función que altere los datos previo a ordenar mediante el parámetro key\n",
    "# Se puede dar vuelata la lista mediante el parámetro reverse\n",
    "nombres.sort(key=str.upper, reverse=True)\n",
    "print(nombres)"
   ]
  },
  {
   "cell_type": "markdown",
   "metadata": {},
   "source": [
    "**reverse** invierte el orden de los items de la lista, sin importar el orden:"
   ]
  },
  {
   "cell_type": "code",
   "execution_count": 26,
   "metadata": {},
   "outputs": [
    {
     "name": "stdout",
     "output_type": "stream",
     "text": [
      "['Joacko', 'Gastón', 'Victoria', 'Pablo']\n"
     ]
    }
   ],
   "source": [
    "nombres = [\"Pablo\",\"Victoria\",\"Gastón\", \"Joacko\"]\n",
    "nombres.reverse()\n",
    "print(nombres)"
   ]
  },
  {
   "cell_type": "markdown",
   "metadata": {},
   "source": [
    "**copy** devuelve una copia de la lista"
   ]
  },
  {
   "cell_type": "code",
   "execution_count": 31,
   "metadata": {},
   "outputs": [
    {
     "name": "stdout",
     "output_type": "stream",
     "text": [
      "las listas son iguales? True\n",
      "nombres         es una lista que comienza en la dirección de memoria 2771896303808\n",
      "copia_e_nombres es una lista que comienza en la dirección de memoria 2771896307648\n",
      "el tercer elemento de lista_de_nombres cambió a Juanita\n",
      "el tercer elemento de nombres cambió a Gastón\n"
     ]
    }
   ],
   "source": [
    "nombres = [\"Pablo\",\"Victoria\",\"Gastón\", \"Joacko\", \"Pablo\"]\n",
    "\n",
    "copia_de_nombres = nombres.copy()\n",
    "\n",
    "print(f\"las listas son iguales? {nombres == copia_de_nombres}\")\n",
    "print(f\"nombres         es una lista que comienza en la dirección de memoria {id(nombres)}\")\n",
    "print(f\"copia_e_nombres es una lista que comienza en la dirección de memoria {id(copia_de_nombres)}\")\n",
    "\n",
    "copia_de_nombres[2] = \"Juanita\"\n",
    "print(f\"el tercer elemento de lista_de_nombres cambió a {copia_de_nombres[2]}\")\n",
    "print(f\"el tercer elemento de nombres cambió a {nombres[2]}\")"
   ]
  },
  {
   "cell_type": "markdown",
   "metadata": {},
   "source": [
    "## Manipulando items mediante **map**\n",
    "\n",
    "**map** es una función de python muy poderosa. Nos permite iterar entre los elementos de una colección, en este caso listas, operar con esos items y devuele un objeto con la nueva información. La función **map** recibe como mínimo dos parámetros: una función a aplicar a cada elemento de la lista y la lista sobre la cual va a operar"
   ]
  },
  {
   "cell_type": "code",
   "execution_count": 44,
   "metadata": {},
   "outputs": [
    {
     "name": "stdout",
     "output_type": "stream",
     "text": [
      "['Pablo', 'Victoria', 'Gastón', 'Joacko', 'Pablo']\n",
      "nombres es una lista en la dirección de memoria 2771895933248\n",
      "map_objects es del tipo <class 'map'>\n",
      "['PABLO', 'VICTORIA', 'GASTÓN', 'JOACKO', 'PABLO']\n",
      "nueva_lista es una lista en la dirección de memoria 2771895180096\n"
     ]
    }
   ],
   "source": [
    "nombres = [\"Pablo\",\"Victoria\",\"Gastón\", \"Joacko\", \"Pablo\"]\n",
    "print(nombres)\n",
    "print(f\"nombres es una lista en la dirección de memoria {id(nombres)}\")\n",
    "\n",
    "# La funcion map devuelve un objeto de tipo map\n",
    "map_object = map(lambda x: x.upper(), nombres)\n",
    "print(f\"map_objects es del tipo {type(map_object)}\")\n",
    "\n",
    "# para obtener los datos, convierto el map_object en una lista\n",
    "nueva_lista = list(map_object)\n",
    "print(nueva_lista)\n",
    "\n",
    "print(f\"nueva_lista es una lista en la dirección de memoria {id(nueva_lista)}\")\n"
   ]
  }
 ],
 "metadata": {
  "interpreter": {
   "hash": "673a705e1e290ea507686ec60a50aca01cf7ee2e4fd0e0a6a8032a676ddb9b14"
  },
  "kernelspec": {
   "display_name": "Python 3.10.0 64-bit",
   "language": "python",
   "name": "python3"
  },
  "language_info": {
   "codemirror_mode": {
    "name": "ipython",
    "version": 3
   },
   "file_extension": ".py",
   "mimetype": "text/x-python",
   "name": "python",
   "nbconvert_exporter": "python",
   "pygments_lexer": "ipython3",
   "version": "3.10.0"
  },
  "orig_nbformat": 4
 },
 "nbformat": 4,
 "nbformat_minor": 2
}
