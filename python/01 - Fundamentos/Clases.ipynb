{
 "cells": [
  {
   "cell_type": "markdown",
   "metadata": {},
   "source": [
    "# Clases\n",
    "\n",
    "Una clase es un plano o una plantilla que permite modelar tanto los atributos como el comportamiento de un objeto. \n",
    "\n",
    "Los datos que hacen a las características de un objeto se denominan **atributos**.\n",
    "\n",
    "El comportamiento de un objeto se define mediante funciones llamadas **métodos**.\n",
    "\n",
    "Losa objetos creados mediante una clase, se denominan **instancias**.\n",
    "\n",
    "## Atributos\n",
    "\n",
    "La siguiente clase, modela un objeto que permite crear objetos de tipo Persona. En este modelo, cada Person posee 3 atributos: Name, Surname, Age.\n",
    "\n",
    "Para hacer referencia a los atributos de una clase en la propia clase, se debe utilizar el objeto **self**, que no es otra cosa que una intancia de la clase misma que nos permite trabajar con los datos de la propia clase.\n",
    "\n",
    "## Constructores y Destructores\n",
    "\n",
    "Se utiliza el método heredado \\_\\___init__\\_\\_ como **Método Constructor** para obtener los datos durante la creación del objeto persona que servirán para establecer el estado inicial de las variables internas y atributos del objeto creado.\n",
    "\n",
    "Se utiliza el método heredado __\\_\\_del\\_\\___ como **Método Destructor** para liberar y ordenar/manipular los datos convenientemente cuando una instancia de un objeto se destruye.\n",
    "\n",
    "Tanto en el método constructor como en el método destructor, se puede realilzar cualquier tipo de operación, es como una función más donde podemos escribir cualquier código válido y necesario. Por ejemplo, desde estos métodos se podría enviar un email, enviar una notificación, modificar atributos de alguna otra clase relacionada, etc.\n",
    "\n",
    "## Variables dentro de una clase\n",
    "\n",
    "Las variables de caracter privado de una clase se llaman **variables de clase**. Estas variables guardan datos que no son necesariamente un atributo de la clase. En nuestro ejemplo, la variable **population** es una variable de clase que almacena la cantidad de Person que existen.\n"
   ]
  },
  {
   "cell_type": "code",
   "execution_count": 2,
   "metadata": {},
   "outputs": [],
   "source": [
    "class Person(object):\n",
    "  population = 0\n",
    "\n",
    "  def __init__(self, name, surname, age):\n",
    "    self.name = name\n",
    "    self.surname = surname\n",
    "    self.age = age\n",
    "\n",
    "    # Person.population = Person.population + 1\n",
    "    Person.population += 1\n",
    "\n",
    "  def __del__(self):\n",
    "    # Person.population = Person.population - 1\n",
    "    Person.population -= 1\n",
    "\n"
   ]
  },
  {
   "cell_type": "markdown",
   "metadata": {},
   "source": [
    "## Instancias\n",
    "\n",
    "Para crear un objeto en base a la clase, se utiliza la función del método constructor __init__, pero en lugar de invocarlo como __init__, se invoca utilizando el nombre de la propia clase:"
   ]
  },
  {
   "cell_type": "code",
   "execution_count": 3,
   "metadata": {},
   "outputs": [
    {
     "name": "stdout",
     "output_type": "stream",
     "text": [
      "Pablo\n",
      "2\n",
      "1\n"
     ]
    }
   ],
   "source": [
    "pablo = Person(\"Pablo\", \"Centurión\", 49)\n",
    "marce = Person(\"Marce\", \"Roig\", 15)\n",
    "\n",
    "print(pablo.name)\n",
    "print(Person.population)\n",
    "del pablo\n",
    "print(Person.population)\n",
    "\n"
   ]
  },
  {
   "cell_type": "markdown",
   "metadata": {},
   "source": [
    "La variable **pablo** almacena un objeto creado con la clae Person. Se dice entonces que **pablo** es una **instacia** de Person."
   ]
  },
  {
   "cell_type": "markdown",
   "metadata": {},
   "source": [
    "## Herencia\n",
    "\n",
    "Herencia en Programación Orientada a Objetos (OOP por sus siglas en inglés) es una técnica por la cual una clase hija puede heredar atributos y métodos de una clase padre. A la clase padre también se la puede llamar **Super Clase**. Esto tiene como ventaja que si por algún motivo una clase tiene que tener atributos y comportamientos similares a otra clase ya creada, no hay que volver a escribir el código para la nueva clase, alcanza con que la nueva clase herede esos elementos de la clase ya existente."
   ]
  },
  {
   "cell_type": "code",
   "execution_count": 4,
   "metadata": {},
   "outputs": [],
   "source": [
    "class Course():\n",
    "  def __init__(self, name):\n",
    "    self.name = name\n",
    "\n",
    "class Student(Person):\n",
    "  \n",
    "  def __init__(self, name, surname, age, course: Course):\n",
    "    super().__init__(name, surname, age)\n",
    "\n",
    "    self.course = course\n"
   ]
  },
  {
   "cell_type": "markdown",
   "metadata": {},
   "source": [
    "Aquí vemos que la clase Student hereda de Person todos sus atributos y métodos. Por lo tanto la clase Studen se dice que es **hija** (**child**) de **Person**. Incluso hereda su método **init**. Para hacer referencia a atributos y métodos de la clase padre o superclase, se debe utilizar **super()**.\n",
    "\n",
    "En el ejemplo anterior vemos también que un atributo puede ser de un tipo relacionado a una clase: **course** es un atributo tipo **Course**. Y como puede verse abajo, esto nos permite crear un objeto Student mediante su método constructor y en el mismo, pasarle como parámetro para el atributo **course** el resultado del método constructor de Course que no es otra cosa que una instacia de un **Course** listo para ser utilizado:"
   ]
  },
  {
   "cell_type": "code",
   "execution_count": 21,
   "metadata": {},
   "outputs": [
    {
     "name": "stdout",
     "output_type": "stream",
     "text": [
      "Pablo\n",
      "49\n",
      "Python for dummies\n",
      "3\n"
     ]
    }
   ],
   "source": [
    "pablo = Student(\"Pablo\", \"Centurión\", 49, Course(\"Python for dummies\"))\n",
    "\n",
    "print(pablo.name)\n",
    "print(pablo.age)\n",
    "print(pablo.course.name)\n",
    "print(Person.population)"
   ]
  },
  {
   "cell_type": "markdown",
   "metadata": {},
   "source": [
    "En el siguiente ejemplo, vemos como se puede utlizar herencia para clasificar objetos en diferentes clases pero que tengan cosas en común:"
   ]
  },
  {
   "cell_type": "code",
   "execution_count": 12,
   "metadata": {},
   "outputs": [
    {
     "name": "stdout",
     "output_type": "stream",
     "text": [
      "Pancho felino 15\n",
      "Pepe canino 215\n"
     ]
    }
   ],
   "source": [
    "class Mammals():\n",
    "\n",
    "  def __init__(self, name, color, breed, family):\n",
    "    self.name = name\n",
    "    self.color = color\n",
    "    self.breed = breed\n",
    "    self.family = family\n",
    "\n",
    "class Cat(Mammals):\n",
    "\n",
    "  def __init__(self, name, color, breed, family, nails_length):\n",
    "   \n",
    "    super().__init__(name, color, breed, family)\n",
    "\n",
    "    self.nails_length = nails_length\n",
    "\n",
    "\n",
    "class Dog(Mammals):\n",
    "  def __init__(self, name, color, breed, family, smelling_capacity:int):\n",
    "    super().__init__(name, color, breed, family)\n",
    "\n",
    "    self.smelling_capacity = smelling_capacity\n",
    "\n",
    "gatito = Cat(\"Pancho\", \"marron\", \"siames\", \"felino\", 15)\n",
    "perrito = Dog(\"Pepe\", \"negrito\", \"pastor aleman\", \"canino\", \"215\")\n",
    "\n",
    "print(gatito.name, gatito.family, gatito.nails_length)\n",
    "print(perrito.name, perrito.family, perrito.smelling_capacity)\n",
    "\n",
    "\n",
    "\n"
   ]
  },
  {
   "cell_type": "markdown",
   "metadata": {},
   "source": [
    "## Métodos\n",
    "\n",
    "Se llama método a una función definida dentro de una clase. Por lo tanto un método es una función como cualquier otra en python, pero circuncripta al alcance de una clase. Todos los métodos de una clase creada en python que deban hacer referencia a la instancia creada creada con esa clase, debe recibir como primer parámetro una referencia a dicho objeto llamada **self**.\n",
    "\n",
    "Los objetos creados mediante clases, pueden \"dialogar\" entre ellos mediante métodos.\n",
    "\n",
    "En el siguiente ejemplo, vemos como se puede programar un simple juego de lucha entre dos personajes que se atacan mutuamente hasta que uno de ellos muere."
   ]
  },
  {
   "cell_type": "code",
   "execution_count": 2,
   "metadata": {},
   "outputs": [],
   "source": [
    "import random\n",
    "\n",
    "class Character():\n",
    "\n",
    "  def __init__(self, name:str, health_points: int, attack_points: int):\n",
    "    self.name = name\n",
    "    self.health_points = health_points\n",
    "    self.attack_points = attack_points\n",
    "\n",
    "  def Attacks(self, victim):\n",
    "\n",
    "    # enemy_defense sirve para bajar al azar la potencia de ataque.\n",
    "    # esto da la ilusión de que la victima puede defense un poco o incluso\n",
    "    # bloquear un ataque por completo.\n",
    "    enemy_defence = random.randint(0,self.attack_points)\n",
    "    efective_attack_points = self.attack_points - enemy_defence\n",
    "\n",
    "    if self.health_points > 0:\n",
    "      victim.health_points = victim.health_points - efective_attack_points\n",
    "      print(f\"{self.name} \\t 💥attacks with {efective_attack_points:02d} -> {victim.name:10s} 💖 {victim.health_points:03d}\")\n"
   ]
  },
  {
   "cell_type": "code",
   "execution_count": 3,
   "metadata": {},
   "outputs": [
    {
     "name": "stdout",
     "output_type": "stream",
     "text": [
      "Vida de Goku   : 100\n",
      "Vida de Vegeta : 100\n",
      "Goku \t 💥attacks with 02 -> Vegeta     💖 098\n",
      "Vegeta \t 💥attacks with 02 -> Goku       💖 098\n",
      "Goku \t 💥attacks with 07 -> Vegeta     💖 091\n",
      "Vegeta \t 💥attacks with 06 -> Goku       💖 092\n",
      "Goku \t 💥attacks with 02 -> Vegeta     💖 089\n",
      "Vegeta \t 💥attacks with 05 -> Goku       💖 087\n",
      "Goku \t 💥attacks with 09 -> Vegeta     💖 080\n",
      "Vegeta \t 💥attacks with 09 -> Goku       💖 078\n",
      "Goku \t 💥attacks with 05 -> Vegeta     💖 075\n",
      "Vegeta \t 💥attacks with 01 -> Goku       💖 077\n",
      "Goku \t 💥attacks with 07 -> Vegeta     💖 068\n",
      "Vegeta \t 💥attacks with 06 -> Goku       💖 071\n",
      "Goku \t 💥attacks with 01 -> Vegeta     💖 067\n",
      "Vegeta \t 💥attacks with 07 -> Goku       💖 064\n",
      "Goku \t 💥attacks with 08 -> Vegeta     💖 059\n",
      "Vegeta \t 💥attacks with 09 -> Goku       💖 055\n",
      "Goku \t 💥attacks with 00 -> Vegeta     💖 059\n",
      "Vegeta \t 💥attacks with 02 -> Goku       💖 053\n",
      "Goku \t 💥attacks with 03 -> Vegeta     💖 056\n",
      "Vegeta \t 💥attacks with 08 -> Goku       💖 045\n",
      "Goku \t 💥attacks with 10 -> Vegeta     💖 046\n",
      "Vegeta \t 💥attacks with 03 -> Goku       💖 042\n",
      "Goku \t 💥attacks with 06 -> Vegeta     💖 040\n",
      "Vegeta \t 💥attacks with 08 -> Goku       💖 034\n",
      "Goku \t 💥attacks with 08 -> Vegeta     💖 032\n",
      "Vegeta \t 💥attacks with 04 -> Goku       💖 030\n",
      "Goku \t 💥attacks with 00 -> Vegeta     💖 032\n",
      "Vegeta \t 💥attacks with 10 -> Goku       💖 020\n",
      "Goku \t 💥attacks with 01 -> Vegeta     💖 031\n",
      "Vegeta \t 💥attacks with 03 -> Goku       💖 017\n",
      "Goku \t 💥attacks with 02 -> Vegeta     💖 029\n",
      "Vegeta \t 💥attacks with 09 -> Goku       💖 008\n",
      "Goku \t 💥attacks with 00 -> Vegeta     💖 029\n",
      "Vegeta \t 💥attacks with 05 -> Goku       💖 003\n",
      "Goku \t 💥attacks with 02 -> Vegeta     💖 027\n",
      "Vegeta \t 💥attacks with 10 -> Goku       💖 -07\n",
      "🤪 Goku Murió!\n"
     ]
    }
   ],
   "source": [
    "goku = Character(\"Goku\", 100, 10)\n",
    "vegeta = Character(\"Vegeta\", 100, 10)\n",
    "\n",
    "print(f\"Vida de Goku   : {goku.health_points}\")\n",
    "print(f\"Vida de Vegeta : {vegeta.health_points}\")\n",
    "\n",
    "while goku.health_points > 0 and vegeta.health_points > 0:\n",
    "  goku.Attacks(vegeta)\n",
    "  vegeta.Attacks(goku)\n",
    "\n",
    "if goku.health_points < 1:\n",
    "  print(f\"🤪 {goku.name} Murió!\")\n",
    "\n",
    "if vegeta.health_points < 1:\n",
    "  print(f\"🤪 {vegeta.name} Murió!\")\n",
    "\n"
   ]
  }
 ],
 "metadata": {
  "interpreter": {
   "hash": "085d670c59d1e2e536ba62f61e6ec73509072baae7f7f951ea0e9824376b9634"
  },
  "kernelspec": {
   "display_name": "Python 3.10.0 64-bit ('3.10': venv)",
   "language": "python",
   "name": "python3"
  },
  "language_info": {
   "codemirror_mode": {
    "name": "ipython",
    "version": 3
   },
   "file_extension": ".py",
   "mimetype": "text/x-python",
   "name": "python",
   "nbconvert_exporter": "python",
   "pygments_lexer": "ipython3",
   "version": "3.10.0"
  },
  "orig_nbformat": 4
 },
 "nbformat": 4,
 "nbformat_minor": 2
}
